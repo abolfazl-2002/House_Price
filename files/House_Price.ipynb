{
 "cells": [
  {
   "cell_type": "markdown",
   "id": "07b7b774",
   "metadata": {},
   "source": [
    "# House Price"
   ]
  },
  {
   "cell_type": "markdown",
   "id": "9ed57920",
   "metadata": {},
   "source": [
    " ### Predict house price using machine learning\n",
    " \n",
    " #### Hey there! This is a project that you can prdict appartment price,for example you say some options like number of room or area or address , ... and computer say you what is the appartment price. "
   ]
  },
  {
   "cell_type": "markdown",
   "id": "02747808",
   "metadata": {},
   "source": [
    " "
   ]
  },
  {
   "cell_type": "markdown",
   "id": "39c3eb1c",
   "metadata": {},
   "source": [
    "### Impot Libraries"
   ]
  },
  {
   "cell_type": "code",
   "execution_count": 1,
   "id": "d14fb079",
   "metadata": {},
   "outputs": [],
   "source": [
    "import numpy as np\n",
    "import matplotlib.pyplot as plt\n",
    "import pandas as pd"
   ]
  },
  {
   "cell_type": "markdown",
   "id": "09314289",
   "metadata": {},
   "source": [
    "### Read Data"
   ]
  },
  {
   "cell_type": "code",
   "execution_count": null,
   "id": "67424ec4",
   "metadata": {},
   "outputs": [],
   "source": []
  }
 ],
 "metadata": {
  "kernelspec": {
   "display_name": "Python 3 (ipykernel)",
   "language": "python",
   "name": "python3"
  },
  "language_info": {
   "codemirror_mode": {
    "name": "ipython",
    "version": 3
   },
   "file_extension": ".py",
   "mimetype": "text/x-python",
   "name": "python",
   "nbconvert_exporter": "python",
   "pygments_lexer": "ipython3",
   "version": "3.10.4"
  }
 },
 "nbformat": 4,
 "nbformat_minor": 5
}
