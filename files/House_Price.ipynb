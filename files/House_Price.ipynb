{
 "cells": [
  {
   "cell_type": "markdown",
   "id": "876cdc2e",
   "metadata": {},
   "source": [
    "# House Price"
   ]
  },
  {
   "cell_type": "markdown",
   "id": "8e1ea744",
   "metadata": {},
   "source": [
    " ### Predict house price using machine learning\n",
    " \n",
    " #### Hey there! This is a project that you can prdict appartment price,for example you say some options like number of room or area or address , ... and computer say you what is the appartment price. "
   ]
  },
  {
   "cell_type": "markdown",
   "id": "d6ed3719",
   "metadata": {},
   "source": [
    " "
   ]
  },
  {
   "cell_type": "markdown",
   "id": "e4ca067f",
   "metadata": {},
   "source": [
    "### Impot Libraries"
   ]
  },
  {
   "cell_type": "code",
   "execution_count": 1,
   "id": "d6dd1e34",
   "metadata": {},
   "outputs": [],
   "source": [
    "import numpy as np\n",
    "import matplotlib.pyplot as plt\n",
    "import pandas as pd"
   ]
  },
  {
   "cell_type": "markdown",
   "id": "c12c1523",
   "metadata": {},
   "source": [
    "### Read Data"
   ]
  },
  {
   "cell_type": "code",
   "execution_count": 2,
   "id": "212b322d",
   "metadata": {},
   "outputs": [],
   "source": [
    "csv_file = pd.read_csv(\"csv/House_price.csv\")"
   ]
  },
  {
   "cell_type": "code",
   "execution_count": 3,
   "id": "ada4b5db",
   "metadata": {},
   "outputs": [
    {
     "data": {
      "text/html": [
       "<div>\n",
       "<style scoped>\n",
       "    .dataframe tbody tr th:only-of-type {\n",
       "        vertical-align: middle;\n",
       "    }\n",
       "\n",
       "    .dataframe tbody tr th {\n",
       "        vertical-align: top;\n",
       "    }\n",
       "\n",
       "    .dataframe thead th {\n",
       "        text-align: right;\n",
       "    }\n",
       "</style>\n",
       "<table border=\"1\" class=\"dataframe\">\n",
       "  <thead>\n",
       "    <tr style=\"text-align: right;\">\n",
       "      <th></th>\n",
       "      <th>Room</th>\n",
       "      <th>Price</th>\n",
       "      <th>Price(USD)</th>\n",
       "    </tr>\n",
       "  </thead>\n",
       "  <tbody>\n",
       "    <tr>\n",
       "      <th>count</th>\n",
       "      <td>3479.000000</td>\n",
       "      <td>3.479000e+03</td>\n",
       "      <td>3.479000e+03</td>\n",
       "    </tr>\n",
       "    <tr>\n",
       "      <th>mean</th>\n",
       "      <td>2.079908</td>\n",
       "      <td>5.359023e+09</td>\n",
       "      <td>1.786341e+05</td>\n",
       "    </tr>\n",
       "    <tr>\n",
       "      <th>std</th>\n",
       "      <td>0.758275</td>\n",
       "      <td>8.099935e+09</td>\n",
       "      <td>2.699978e+05</td>\n",
       "    </tr>\n",
       "    <tr>\n",
       "      <th>min</th>\n",
       "      <td>0.000000</td>\n",
       "      <td>3.600000e+06</td>\n",
       "      <td>1.200000e+02</td>\n",
       "    </tr>\n",
       "    <tr>\n",
       "      <th>25%</th>\n",
       "      <td>2.000000</td>\n",
       "      <td>1.418250e+09</td>\n",
       "      <td>4.727500e+04</td>\n",
       "    </tr>\n",
       "    <tr>\n",
       "      <th>50%</th>\n",
       "      <td>2.000000</td>\n",
       "      <td>2.900000e+09</td>\n",
       "      <td>9.666667e+04</td>\n",
       "    </tr>\n",
       "    <tr>\n",
       "      <th>75%</th>\n",
       "      <td>2.000000</td>\n",
       "      <td>6.000000e+09</td>\n",
       "      <td>2.000000e+05</td>\n",
       "    </tr>\n",
       "    <tr>\n",
       "      <th>max</th>\n",
       "      <td>5.000000</td>\n",
       "      <td>9.240000e+10</td>\n",
       "      <td>3.080000e+06</td>\n",
       "    </tr>\n",
       "  </tbody>\n",
       "</table>\n",
       "</div>"
      ],
      "text/plain": [
       "              Room         Price    Price(USD)\n",
       "count  3479.000000  3.479000e+03  3.479000e+03\n",
       "mean      2.079908  5.359023e+09  1.786341e+05\n",
       "std       0.758275  8.099935e+09  2.699978e+05\n",
       "min       0.000000  3.600000e+06  1.200000e+02\n",
       "25%       2.000000  1.418250e+09  4.727500e+04\n",
       "50%       2.000000  2.900000e+09  9.666667e+04\n",
       "75%       2.000000  6.000000e+09  2.000000e+05\n",
       "max       5.000000  9.240000e+10  3.080000e+06"
      ]
     },
     "execution_count": 3,
     "metadata": {},
     "output_type": "execute_result"
    }
   ],
   "source": [
    "csv_file.describe()"
   ]
  },
  {
   "cell_type": "markdown",
   "id": "cc440019",
   "metadata": {},
   "source": [
    "### Clean Data"
   ]
  },
  {
   "cell_type": "markdown",
   "id": "c44f4eb0",
   "metadata": {},
   "source": [
    "#### in this data,some fields are null,for example some houses doesn't have address or they have a unblievble area,so let's clean data!"
   ]
  },
  {
   "cell_type": "code",
   "execution_count": 4,
   "id": "2c701f52",
   "metadata": {},
   "outputs": [],
   "source": [
    "# Clean Area Column\n",
    "area = np.asanyarray(csv_file[\"Area\"])\n",
    "b = []\n",
    "for (i,a) in enumerate(area):\n",
    "    if(\",\" in a):\n",
    "        b.append(i)\n",
    "\n",
    "# update dataframe\n",
    "data = csv_file.drop(b)"
   ]
  },
  {
   "cell_type": "code",
   "execution_count": 13,
   "id": "18966506",
   "metadata": {},
   "outputs": [],
   "source": [
    "# Clean Address Column\n",
    "address = np.asanyarray(data[\"Address\"],dtype=str)\n",
    "b = (address=='nan')\n",
    "bb = np.asanyarray(data[b].index.tolist(),dtype=int)\n",
    "\n",
    "# update dataframe\n",
    "data = data.drop(bb)"
   ]
  },
  {
   "cell_type": "code",
   "execution_count": 15,
   "id": "afb8e432",
   "metadata": {},
   "outputs": [
    {
     "data": {
      "text/html": [
       "<div>\n",
       "<style scoped>\n",
       "    .dataframe tbody tr th:only-of-type {\n",
       "        vertical-align: middle;\n",
       "    }\n",
       "\n",
       "    .dataframe tbody tr th {\n",
       "        vertical-align: top;\n",
       "    }\n",
       "\n",
       "    .dataframe thead th {\n",
       "        text-align: right;\n",
       "    }\n",
       "</style>\n",
       "<table border=\"1\" class=\"dataframe\">\n",
       "  <thead>\n",
       "    <tr style=\"text-align: right;\">\n",
       "      <th></th>\n",
       "      <th>Area</th>\n",
       "      <th>Room</th>\n",
       "      <th>Parking</th>\n",
       "      <th>Warehouse</th>\n",
       "      <th>Elevator</th>\n",
       "      <th>Address</th>\n",
       "      <th>Price</th>\n",
       "      <th>Price(USD)</th>\n",
       "    </tr>\n",
       "  </thead>\n",
       "  <tbody>\n",
       "    <tr>\n",
       "      <th>0</th>\n",
       "      <td>63</td>\n",
       "      <td>1</td>\n",
       "      <td>True</td>\n",
       "      <td>True</td>\n",
       "      <td>True</td>\n",
       "      <td>Shahran</td>\n",
       "      <td>1.850000e+09</td>\n",
       "      <td>61666.67</td>\n",
       "    </tr>\n",
       "    <tr>\n",
       "      <th>1</th>\n",
       "      <td>60</td>\n",
       "      <td>1</td>\n",
       "      <td>True</td>\n",
       "      <td>True</td>\n",
       "      <td>True</td>\n",
       "      <td>Shahran</td>\n",
       "      <td>1.850000e+09</td>\n",
       "      <td>61666.67</td>\n",
       "    </tr>\n",
       "    <tr>\n",
       "      <th>2</th>\n",
       "      <td>79</td>\n",
       "      <td>2</td>\n",
       "      <td>True</td>\n",
       "      <td>True</td>\n",
       "      <td>True</td>\n",
       "      <td>Pardis</td>\n",
       "      <td>5.500000e+08</td>\n",
       "      <td>18333.33</td>\n",
       "    </tr>\n",
       "    <tr>\n",
       "      <th>3</th>\n",
       "      <td>95</td>\n",
       "      <td>2</td>\n",
       "      <td>True</td>\n",
       "      <td>True</td>\n",
       "      <td>True</td>\n",
       "      <td>Shahrake Qods</td>\n",
       "      <td>9.025000e+08</td>\n",
       "      <td>30083.33</td>\n",
       "    </tr>\n",
       "    <tr>\n",
       "      <th>4</th>\n",
       "      <td>123</td>\n",
       "      <td>2</td>\n",
       "      <td>True</td>\n",
       "      <td>True</td>\n",
       "      <td>True</td>\n",
       "      <td>Shahrake Gharb</td>\n",
       "      <td>7.000000e+09</td>\n",
       "      <td>233333.33</td>\n",
       "    </tr>\n",
       "    <tr>\n",
       "      <th>5</th>\n",
       "      <td>70</td>\n",
       "      <td>2</td>\n",
       "      <td>True</td>\n",
       "      <td>True</td>\n",
       "      <td>False</td>\n",
       "      <td>North Program Organization</td>\n",
       "      <td>2.050000e+09</td>\n",
       "      <td>68333.33</td>\n",
       "    </tr>\n",
       "    <tr>\n",
       "      <th>6</th>\n",
       "      <td>87</td>\n",
       "      <td>2</td>\n",
       "      <td>True</td>\n",
       "      <td>True</td>\n",
       "      <td>True</td>\n",
       "      <td>Pardis</td>\n",
       "      <td>6.000000e+08</td>\n",
       "      <td>20000.00</td>\n",
       "    </tr>\n",
       "    <tr>\n",
       "      <th>7</th>\n",
       "      <td>59</td>\n",
       "      <td>1</td>\n",
       "      <td>True</td>\n",
       "      <td>True</td>\n",
       "      <td>True</td>\n",
       "      <td>Shahran</td>\n",
       "      <td>2.150000e+09</td>\n",
       "      <td>71666.67</td>\n",
       "    </tr>\n",
       "    <tr>\n",
       "      <th>8</th>\n",
       "      <td>54</td>\n",
       "      <td>2</td>\n",
       "      <td>True</td>\n",
       "      <td>True</td>\n",
       "      <td>False</td>\n",
       "      <td>Andisheh</td>\n",
       "      <td>4.930000e+08</td>\n",
       "      <td>16433.33</td>\n",
       "    </tr>\n",
       "    <tr>\n",
       "      <th>9</th>\n",
       "      <td>71</td>\n",
       "      <td>1</td>\n",
       "      <td>True</td>\n",
       "      <td>True</td>\n",
       "      <td>True</td>\n",
       "      <td>West Ferdows Boulevard</td>\n",
       "      <td>2.370000e+09</td>\n",
       "      <td>79000.00</td>\n",
       "    </tr>\n",
       "  </tbody>\n",
       "</table>\n",
       "</div>"
      ],
      "text/plain": [
       "  Area  Room  Parking  Warehouse  Elevator                     Address  \\\n",
       "0   63     1     True       True      True                     Shahran   \n",
       "1   60     1     True       True      True                     Shahran   \n",
       "2   79     2     True       True      True                      Pardis   \n",
       "3   95     2     True       True      True               Shahrake Qods   \n",
       "4  123     2     True       True      True              Shahrake Gharb   \n",
       "5   70     2     True       True     False  North Program Organization   \n",
       "6   87     2     True       True      True                      Pardis   \n",
       "7   59     1     True       True      True                     Shahran   \n",
       "8   54     2     True       True     False                    Andisheh   \n",
       "9   71     1     True       True      True      West Ferdows Boulevard   \n",
       "\n",
       "          Price  Price(USD)  \n",
       "0  1.850000e+09    61666.67  \n",
       "1  1.850000e+09    61666.67  \n",
       "2  5.500000e+08    18333.33  \n",
       "3  9.025000e+08    30083.33  \n",
       "4  7.000000e+09   233333.33  \n",
       "5  2.050000e+09    68333.33  \n",
       "6  6.000000e+08    20000.00  \n",
       "7  2.150000e+09    71666.67  \n",
       "8  4.930000e+08    16433.33  \n",
       "9  2.370000e+09    79000.00  "
      ]
     },
     "execution_count": 15,
     "metadata": {},
     "output_type": "execute_result"
    }
   ],
   "source": [
    "data.head(10)"
   ]
  },
  {
   "cell_type": "markdown",
   "id": "664cb7ac",
   "metadata": {},
   "source": [
    "### Separation Data"
   ]
  },
  {
   "cell_type": "code",
   "execution_count": 18,
   "id": "7bc440bf",
   "metadata": {},
   "outputs": [],
   "source": [
    "data_ = data[data[\"Address\"] == \"Andisheh\"]\n",
    "\n",
    "x_data = np.asanyarray(data_[[\"Area\",\"Room\",\"Warehouse\",\"Elevator\"]],dtype=float)\n",
    "y_data = np.asanyarray(data_[\"Price\"],dtype=float)"
   ]
  },
  {
   "cell_type": "code",
   "execution_count": 19,
   "id": "374e3ce3",
   "metadata": {},
   "outputs": [],
   "source": [
    "# split data\n",
    "msk = np.random.rand(len(data_)) > 0.8\n",
    "\n",
    "x_train = x_data[~msk]\n",
    "y_train = y_data[~msk]\n",
    "\n",
    "x_test = x_data[msk]\n",
    "y_test = y_data[msk]"
   ]
  },
  {
   "cell_type": "markdown",
   "id": "f1583e2f",
   "metadata": {},
   "source": [
    "### Create Model"
   ]
  },
  {
   "cell_type": "code",
   "execution_count": 20,
   "id": "b5e0690b",
   "metadata": {},
   "outputs": [
    {
     "name": "stdout",
     "output_type": "stream",
     "text": [
      "Coefficients:  [ 2.61482936e+07  9.45387645e+07  3.86328733e+08 -1.72865772e+08]\n"
     ]
    }
   ],
   "source": [
    "from sklearn import linear_model\n",
    "\n",
    "reg = linear_model.LinearRegression()\n",
    "\n",
    "reg.fit(x_train,y_train)\n",
    "\n",
    "print ('Coefficients: ', reg.coef_)"
   ]
  },
  {
   "cell_type": "markdown",
   "id": "fda510b5",
   "metadata": {},
   "source": [
    "### Evaluvate"
   ]
  },
  {
   "cell_type": "code",
   "execution_count": 21,
   "id": "e3001946",
   "metadata": {},
   "outputs": [
    {
     "name": "stdout",
     "output_type": "stream",
     "text": [
      "R2 : 0.91\n"
     ]
    }
   ],
   "source": [
    "y_test_ = reg.predict(x_test)\n",
    "print(f\"R2 : {round(reg.score(x_test,y_test),2)}\")"
   ]
  }
 ],
 "metadata": {
  "kernelspec": {
   "display_name": "Python 3 (ipykernel)",
   "language": "python",
   "name": "python3"
  },
  "language_info": {
   "codemirror_mode": {
    "name": "ipython",
    "version": 3
   },
   "file_extension": ".py",
   "mimetype": "text/x-python",
   "name": "python",
   "nbconvert_exporter": "python",
   "pygments_lexer": "ipython3",
   "version": "3.10.4"
  }
 },
 "nbformat": 4,
 "nbformat_minor": 5
}
